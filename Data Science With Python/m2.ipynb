{
 "cells": [
  {
   "cell_type": "code",
   "execution_count": null,
   "metadata": {},
   "outputs": [
    {
     "ename": "",
     "evalue": "",
     "output_type": "error",
     "traceback": [
      "\u001b[1;31mFailed to start the Kernel. \n",
      "\u001b[1;31mPermissionError: [Errno 13] Permission denied: 'C:\\\\Users\\\\ACE\\\\.ipython\\\\profile_default\\\\startup\\\\README'. \n",
      "\u001b[1;31mView Jupyter <a href='command:jupyter.viewOutput'>log</a> for further details."
     ]
    }
   ],
   "source": [
    "# import pandas as pnd\n",
    "\n",
    "# ru_brics = pnd.DataFrame({'name':'B.E. Krapah',\n",
    "#              'age': 20, \n",
    "#              'program':'comp eng'})\n",
    "\n",
    "# mom_contact = pnd.read_csv( e=0)\n",
    "print(1)"
   ]
  }
 ],
 "metadata": {
  "kernelspec": {
   "display_name": "Python 3",
   "language": "python",
   "name": "python3"
  },
  "language_info": {
   "name": "python",
   "version": "3.12.0"
  }
 },
 "nbformat": 4,
 "nbformat_minor": 2
}
